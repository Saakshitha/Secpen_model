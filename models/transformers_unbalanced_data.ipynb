# STEP 1: Install dependencies
!pip install -q transformers datasets scikit-learn

# STEP 2: Import Libraries
import pandas as pd
import torch
import numpy as np
from sklearn.model_selection import train_test_split
from sklearn.metrics import accuracy_score, f1_score
from transformers import AutoTokenizer, AutoModelForSequenceClassification, TrainingArguments, Trainer
from transformers import DataCollatorWithPadding
from datasets import Dataset
from google.colab import drive

# STEP 3: Mount Google Drive
drive.mount('/content/drive')
from google.colab import files
uploaded = files.upload()
# STEP 4: Load Dataset
df = pd.read_csv("sentimentdataset.csv")

df = df[['Text', 'Sentiment']].dropna()
df['Sentiment'] = df['Sentiment'].str.strip()
df['label'] = df['Sentiment']
label_col = 'label'

# Get sorted unique labels
unique_labels = sorted(df[label_col].unique())

# Dynamically generate mappings
label2id = {label: idx for idx, label in enumerate(unique_labels)}
id2label = {idx: label for label, idx in label2id.items()}

print("label2id:", label2id)
print("id2label:", id2label)

df['label'] = df['Sentiment'].map(label2id)
# STEP 6: Train-Test Split
train_texts, val_texts, train_labels, val_labels = train_test_split(
    df['Text'], df['label'], test_size=0.2,  random_state=42
)

train_dataset = Dataset.from_dict({'text': train_texts.tolist(), 'label': train_labels.tolist()})
val_dataset = Dataset.from_dict({'text': val_texts.tolist(), 'label': val_labels.tolist()})
# STEP 7: Tokenizer & Preprocessing
checkpoint = "distilbert-base-uncased"  # lightweight, fast transformer
tokenizer = AutoTokenizer.from_pretrained(checkpoint)

def tokenize(batch):
    return tokenizer(batch["text"], truncation=True)

train_dataset = train_dataset.map(tokenize, batched=True)
val_dataset = val_dataset.map(tokenize, batched=True)

# STEP 8: Model Initialization
model = AutoModelForSequenceClassification.from_pretrained(
    checkpoint,
    num_labels=len(label2id),
    id2label=id2label,
    label2id=label2id
)

# STEP 9: Metric Function
def compute_metrics(eval_pred):
    logits, label = eval_pred
    predictions = np.argmax(logits, axis=-1)
    return {
        "accuracy": accuracy_score(label, predictions),
        "f1": f1_score(label, predictions, average='weighted')
    }
from transformers import TrainingArguments

training_args = TrainingArguments(
    output_dir="./results",
    do_eval=True,
    eval_strategy="epoch",
    save_strategy="epoch",
    learning_rate=2e-5,
    per_device_train_batch_size=16,
    per_device_eval_batch_size=16,
    num_train_epochs=30,
    weight_decay=0.01,
    load_best_model_at_end=True,
    metric_for_best_model="f1",
    logging_dir="./logs",
    logging_strategy="epoch"
)

# STEP 11: Trainer Setup
data_collator = DataCollatorWithPadding(tokenizer=tokenizer)

trainer = Trainer(
    model=model,
    args=training_args,
    train_dataset=train_dataset,
    eval_dataset=val_dataset,
    tokenizer=tokenizer,
    data_collator=data_collator,
    compute_metrics=compute_metrics
)

# STEP 12: Train the Model
trainer.train()
#3eb1181871c09ea302f55e200422da7d392c1dde
# STEP 13: Save the Model to Google Drive
save_path = "/content/drive/MyDrive/sentiment_transformer_model"
model.save_pretrained(save_path)
tokenizer.save_pretrained(save_path)
print(f"Model saved to: {save_path}")

from transformers import AutoTokenizer, AutoModelForSequenceClassification
import torch

# Define path to your saved model
save_path = "/content/drive/MyDrive/sentiment_transformer_model"

# Load tokenizer and model from the saved directory
tokenizer = AutoTokenizer.from_pretrained(save_path)
model = AutoModelForSequenceClassification.from_pretrained(save_path)
model.eval()  # Set model to evaluation mode
model.to('cuda' if torch.cuda.is_available() else 'cpu')  # Move to appropriate device

# Map class indices to labels
id2label = model.config.id2label  # Ensure this is populated in your config

# Define the sentiment prediction function
def predict_sentiment(text):
    # Tokenize input
    inputs = tokenizer(text, return_tensors="pt", truncation=True, padding=True).to(model.device)

    # Run model inference
    with torch.no_grad():
        outputs = model(**inputs)

    # Compute probabilities
    probs = torch.nn.functional.softmax(outputs.logits, dim=1)

    # Get predicted class
    pred = torch.argmax(probs, dim=1).item()

    # Return result
    return id2label[pred], {id2label[i]: probs[0][i].item() for i in range(len(id2label))}

text = input("enter text")
label, probabilities = predict_sentiment(text)
print("Predicted Label:", label)
print("Probabilities:", probabilities)

